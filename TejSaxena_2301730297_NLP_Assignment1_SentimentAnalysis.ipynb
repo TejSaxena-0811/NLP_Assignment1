{
  "cells": [
    {
      "cell_type": "markdown",
      "metadata": {
        "id": "A65xhoNBFi8G"
      },
      "source": [
        "importing libraries and downloading important resources\n"
      ]
    },
    {
      "cell_type": "code",
      "execution_count": 1,
      "metadata": {
        "colab": {
          "base_uri": "https://localhost:8080/"
        },
        "id": "Wfprf0GA_-pL",
        "outputId": "3b12c9a4-7c51-4cce-996b-26fb540e3fbb"
      },
      "outputs": [
        {
          "name": "stderr",
          "output_type": "stream",
          "text": [
            "[nltk_data] Downloading package punkt_tab to C:\\Users\\Tej\n",
            "[nltk_data]     Saxena\\AppData\\Roaming\\nltk_data...\n",
            "[nltk_data]   Package punkt_tab is already up-to-date!\n",
            "[nltk_data] Downloading package stopwords to C:\\Users\\Tej\n",
            "[nltk_data]     Saxena\\AppData\\Roaming\\nltk_data...\n",
            "[nltk_data]   Package stopwords is already up-to-date!\n",
            "[nltk_data] Downloading package wordnet to C:\\Users\\Tej\n",
            "[nltk_data]     Saxena\\AppData\\Roaming\\nltk_data...\n",
            "[nltk_data]   Package wordnet is already up-to-date!\n",
            "[nltk_data] Downloading package omw-1.4 to C:\\Users\\Tej\n",
            "[nltk_data]     Saxena\\AppData\\Roaming\\nltk_data...\n",
            "[nltk_data]   Package omw-1.4 is already up-to-date!\n"
          ]
        },
        {
          "data": {
            "text/plain": [
              "True"
            ]
          },
          "execution_count": 1,
          "metadata": {},
          "output_type": "execute_result"
        }
      ],
      "source": [
        "# importing libraries\n",
        "import nltk\n",
        "from nltk.tokenize import word_tokenize\n",
        "from nltk.corpus import stopwords\n",
        "from nltk.stem import PorterStemmer,WordNetLemmatizer\n",
        "\n",
        "# download required nltk resources\n",
        "nltk.download('punkt_tab')\n",
        "nltk.download('stopwords')\n",
        "nltk.download('wordnet')\n",
        "nltk.download('omw-1.4')"
      ]
    },
    {
      "cell_type": "markdown",
      "metadata": {
        "id": "4OhIUdZ3FbJ4"
      },
      "source": [
        "Defining the paragraph."
      ]
    },
    {
      "cell_type": "code",
      "execution_count": 7,
      "metadata": {
        "colab": {
          "base_uri": "https://localhost:8080/"
        },
        "id": "NubmAgAJD8u7",
        "outputId": "82c8ca04-11b1-4520-bafa-318421b503ce"
      },
      "outputs": [
        {
          "name": "stdout",
          "output_type": "stream",
          "text": [
            "In recent years, climate change has emerged as one of the most pressing global challenges, affecting ecosystems, economies, and human health. Rising temperatures, extreme weather events, and shifting weather patterns are disrupting natural habitats and threatening biodiversity. The impact of climate change is also felt in urban areas, where heatwaves and flooding cause widespread damage. Governments, organizations, and individuals are recognizing the urgency of addressing this issue through sustainable practices, renewable energy, and policy reforms. While the path to mitigating climate change is complex, taking action now is crucial to ensuring a more resilient planet for future generations.\n"
          ]
        }
      ],
      "source": [
        "paragraph = (\n",
        "    \"In recent years, climate change has emerged as one of the most pressing global challenges, affecting ecosystems, economies, and human health. Rising temperatures, extreme weather events, and shifting weather patterns are disrupting natural habitats and threatening biodiversity. The impact of climate change is also felt in urban areas, where heatwaves and flooding cause widespread damage. Governments, organizations, and individuals are recognizing the urgency of addressing this issue through sustainable practices, renewable energy, and policy reforms. While the path to mitigating climate change is complex, taking action now is crucial to ensuring a more resilient planet for future generations.\"\n",
        ")\n",
        "print(paragraph)"
      ]
    },
    {
      "cell_type": "markdown",
      "metadata": {
        "id": "N-ZfljIqGAIU"
      },
      "source": [
        "Tokenization : This splits the paragraph into individual words and punctuation marks\n"
      ]
    },
    {
      "cell_type": "code",
      "execution_count": 8,
      "metadata": {
        "colab": {
          "base_uri": "https://localhost:8080/"
        },
        "id": "EcYuKB55FZXn",
        "outputId": "fabbdea2-3ec5-4d22-dfd2-5789ec255c9c"
      },
      "outputs": [
        {
          "name": "stdout",
          "output_type": "stream",
          "text": [
            "Token\n",
            "['In', 'recent', 'years', ',', 'climate', 'change', 'has', 'emerged', 'as', 'one', 'of', 'the', 'most', 'pressing', 'global', 'challenges', ',', 'affecting', 'ecosystems', ',', 'economies', ',', 'and', 'human', 'health', '.', 'Rising', 'temperatures', ',', 'extreme', 'weather', 'events', ',', 'and', 'shifting', 'weather', 'patterns', 'are', 'disrupting', 'natural', 'habitats', 'and', 'threatening', 'biodiversity', '.', 'The', 'impact', 'of', 'climate', 'change', 'is', 'also', 'felt', 'in', 'urban', 'areas', ',', 'where', 'heatwaves', 'and', 'flooding', 'cause', 'widespread', 'damage', '.', 'Governments', ',', 'organizations', ',', 'and', 'individuals', 'are', 'recognizing', 'the', 'urgency', 'of', 'addressing', 'this', 'issue', 'through', 'sustainable', 'practices', ',', 'renewable', 'energy', ',', 'and', 'policy', 'reforms', '.', 'While', 'the', 'path', 'to', 'mitigating', 'climate', 'change', 'is', 'complex', ',', 'taking', 'action', 'now', 'is', 'crucial', 'to', 'ensuring', 'a', 'more', 'resilient', 'planet', 'for', 'future', 'generations', '.']\n"
          ]
        }
      ],
      "source": [
        "tokens = word_tokenize(paragraph)\n",
        "print(\"Token\")\n",
        "print(tokens)"
      ]
    },
    {
      "cell_type": "markdown",
      "metadata": {
        "id": "Cr7QbGxGHOTG"
      },
      "source": [
        "Stopword Removal : This removes common english words like \"is\",\"the\",\"and\",etc. Keeping only meaningful words."
      ]
    },
    {
      "cell_type": "code",
      "execution_count": 9,
      "metadata": {
        "colab": {
          "base_uri": "https://localhost:8080/"
        },
        "id": "edPZ-purGxJO",
        "outputId": "f1ba3fe7-b036-470f-e682-0705a38183fd"
      },
      "outputs": [
        {
          "name": "stdout",
          "output_type": "stream",
          "text": [
            "after stopword removal\n",
            "['recent', 'years', 'climate', 'change', 'emerged', 'one', 'pressing', 'global', 'challenges', 'affecting', 'ecosystems', 'economies', 'human', 'health', 'Rising', 'temperatures', 'extreme', 'weather', 'events', 'shifting', 'weather', 'patterns', 'disrupting', 'natural', 'habitats', 'threatening', 'biodiversity', 'impact', 'climate', 'change', 'also', 'felt', 'urban', 'areas', 'heatwaves', 'flooding', 'cause', 'widespread', 'damage', 'Governments', 'organizations', 'individuals', 'recognizing', 'urgency', 'addressing', 'issue', 'sustainable', 'practices', 'renewable', 'energy', 'policy', 'reforms', 'path', 'mitigating', 'climate', 'change', 'complex', 'taking', 'action', 'crucial', 'ensuring', 'resilient', 'planet', 'future', 'generations']\n"
          ]
        }
      ],
      "source": [
        "stop_words = set(stopwords.words('english'))\n",
        "filtered_tokens = [word for word in tokens if word.lower() not in stop_words and word.isalpha()]\n",
        "print(\"after stopword removal\")\n",
        "print(filtered_tokens)"
      ]
    },
    {
      "cell_type": "markdown",
      "metadata": {
        "id": "lNzdQTZJIbe0"
      },
      "source": [
        "Stemming : Reduce a word to its root forms often not actual words"
      ]
    },
    {
      "cell_type": "code",
      "execution_count": 10,
      "metadata": {
        "colab": {
          "base_uri": "https://localhost:8080/"
        },
        "id": "ZNj-JbPSIU1t",
        "outputId": "bfaf0858-9eed-4562-9be5-2c395afc78e1"
      },
      "outputs": [
        {
          "name": "stdout",
          "output_type": "stream",
          "text": [
            "after stemming\n",
            "['recent', 'year', 'climat', 'chang', 'emerg', 'one', 'press', 'global', 'challeng', 'affect', 'ecosystem', 'economi', 'human', 'health', 'rise', 'temperatur', 'extrem', 'weather', 'event', 'shift', 'weather', 'pattern', 'disrupt', 'natur', 'habitat', 'threaten', 'biodivers', 'impact', 'climat', 'chang', 'also', 'felt', 'urban', 'area', 'heatwav', 'flood', 'caus', 'widespread', 'damag', 'govern', 'organ', 'individu', 'recogn', 'urgenc', 'address', 'issu', 'sustain', 'practic', 'renew', 'energi', 'polici', 'reform', 'path', 'mitig', 'climat', 'chang', 'complex', 'take', 'action', 'crucial', 'ensur', 'resili', 'planet', 'futur', 'gener']\n"
          ]
        }
      ],
      "source": [
        "stemmer = PorterStemmer()\n",
        "stemmed_words = [stemmer.stem(word) for word in filtered_tokens]\n",
        "print(\"after stemming\")\n",
        "print(stemmed_words)"
      ]
    },
    {
      "cell_type": "markdown",
      "metadata": {
        "id": "ucIYW2vxKjKB"
      },
      "source": [
        "Lemmatization : lemmatization returns dictionary base forms."
      ]
    },
    {
      "cell_type": "code",
      "execution_count": 11,
      "metadata": {
        "colab": {
          "base_uri": "https://localhost:8080/"
        },
        "id": "c75jJDKZJkVN",
        "outputId": "8cf1186f-7be1-447e-886b-377e5535b47a"
      },
      "outputs": [
        {
          "name": "stdout",
          "output_type": "stream",
          "text": [
            "After lemmatization\n",
            "['recent', 'year', 'climate', 'change', 'emerged', 'one', 'pressing', 'global', 'challenge', 'affecting', 'ecosystem', 'economy', 'human', 'health', 'Rising', 'temperature', 'extreme', 'weather', 'event', 'shifting', 'weather', 'pattern', 'disrupting', 'natural', 'habitat', 'threatening', 'biodiversity', 'impact', 'climate', 'change', 'also', 'felt', 'urban', 'area', 'heatwaves', 'flooding', 'cause', 'widespread', 'damage', 'Governments', 'organization', 'individual', 'recognizing', 'urgency', 'addressing', 'issue', 'sustainable', 'practice', 'renewable', 'energy', 'policy', 'reform', 'path', 'mitigating', 'climate', 'change', 'complex', 'taking', 'action', 'crucial', 'ensuring', 'resilient', 'planet', 'future', 'generation']\n"
          ]
        }
      ],
      "source": [
        "lemmatizer = WordNetLemmatizer()\n",
        "lemmatized_words = [lemmatizer.lemmatize(word) for word in filtered_tokens]\n",
        "print(\"After lemmatization\")\n",
        "print(lemmatized_words)"
      ]
    }
  ],
  "metadata": {
    "colab": {
      "provenance": []
    },
    "kernelspec": {
      "display_name": "Python 3",
      "name": "python3"
    },
    "language_info": {
      "codemirror_mode": {
        "name": "ipython",
        "version": 3
      },
      "file_extension": ".py",
      "mimetype": "text/x-python",
      "name": "python",
      "nbconvert_exporter": "python",
      "pygments_lexer": "ipython3",
      "version": "3.13.2"
    }
  },
  "nbformat": 4,
  "nbformat_minor": 0
}
