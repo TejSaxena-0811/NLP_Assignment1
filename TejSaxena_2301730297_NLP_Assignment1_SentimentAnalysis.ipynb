{
  "cells": [
    {
      "cell_type": "markdown",
      "metadata": {
        "id": "A65xhoNBFi8G"
      },
      "source": [
        "importing libraries and downloading important resources\n"
      ]
    },
    {
      "cell_type": "code",
      "execution_count": null,
      "metadata": {
        "colab": {
          "base_uri": "https://localhost:8080/"
        },
        "id": "Wfprf0GA_-pL",
        "outputId": "3b12c9a4-7c51-4cce-996b-26fb540e3fbb"
      },
      "outputs": [
        {
          "name": "stderr",
          "output_type": "stream",
          "text": [
            "[nltk_data] Downloading package punkt_tab to /root/nltk_data...\n",
            "[nltk_data]   Package punkt_tab is already up-to-date!\n",
            "[nltk_data] Downloading package stopwords to /root/nltk_data...\n",
            "[nltk_data]   Package stopwords is already up-to-date!\n",
            "[nltk_data] Downloading package wordnet to /root/nltk_data...\n",
            "[nltk_data]   Package wordnet is already up-to-date!\n",
            "[nltk_data] Downloading package omw-1.4 to /root/nltk_data...\n",
            "[nltk_data]   Package omw-1.4 is already up-to-date!\n"
          ]
        },
        {
          "data": {
            "text/plain": [
              "True"
            ]
          },
          "execution_count": 1,
          "metadata": {},
          "output_type": "execute_result"
        }
      ],
      "source": [
        "# importing libraries\n",
        "import nltk\n",
        "from nltk.tokenize import word_tokenize\n",
        "from nltk.corpus import stopwords\n",
        "from nltk.stem import PorterStemmer,WordNetLemmatizer\n",
        "\n",
        "# download required nltk resources\n",
        "nltk.download('punkt_tab')\n",
        "nltk.download('stopwords')\n",
        "nltk.download('wordnet')\n",
        "nltk.download('omw-1.4')"
      ]
    },
    {
      "cell_type": "markdown",
      "metadata": {
        "id": "4OhIUdZ3FbJ4"
      },
      "source": [
        "Defining the paragraph."
      ]
    },
    {
      "cell_type": "code",
      "execution_count": null,
      "metadata": {
        "colab": {
          "base_uri": "https://localhost:8080/"
        },
        "id": "NubmAgAJD8u7",
        "outputId": "82c8ca04-11b1-4520-bafa-318421b503ce"
      },
      "outputs": [
        {
          "name": "stdout",
          "output_type": "stream",
          "text": [
            "Technology has become an essential part of modern life, transforming the way people work, communicate, and learn. From smartphones to artificial intelligence, technological innovations have improved efficiency and convenience in almost every field. In education, online learning platforms allow students to access knowledge from anywhere, while in healthcare, advanced medical equipment and data analysis save countless lives. However, the rapid growth of technology also raises concerns about privacy, unemployment, and over-dependence on machines. Therefore, while technology offers immense benefits, it is important to use it responsibly to ensure that progress leads to a better and more balanced society.\n"
          ]
        }
      ],
      "source": [
        "paragraph = (\n",
        "    \"Technology has become an essential part of modern life, transforming \"\n",
        "    \"the way people work, communicate, and learn. From smartphones to \"\n",
        "    \"artificial intelligence, technological innovations have improved \"\n",
        "    \"efficiency and convenience in almost every field. In education, \"\n",
        "    \"online learning platforms allow students to access knowledge from \"\n",
        "    \"anywhere, while in healthcare, advanced medical equipment and data \"\n",
        "    \"analysis save countless lives. However, the rapid growth of technology \"\n",
        "    \"also raises concerns about privacy, unemployment, and over-dependence \"\n",
        "    \"on machines. Therefore, while technology offers immense benefits, it \"\n",
        "    \"is important to use it responsibly to ensure that progress leads to a \"\n",
        "    \"better and more balanced society.\"\n",
        ")\n",
        "print(paragraph)"
      ]
    },
    {
      "cell_type": "markdown",
      "metadata": {
        "id": "N-ZfljIqGAIU"
      },
      "source": [
        "Tokenization : This splits the paragraph into individual words and punctuation marks\n"
      ]
    },
    {
      "cell_type": "code",
      "execution_count": null,
      "metadata": {
        "colab": {
          "base_uri": "https://localhost:8080/"
        },
        "id": "EcYuKB55FZXn",
        "outputId": "fabbdea2-3ec5-4d22-dfd2-5789ec255c9c"
      },
      "outputs": [
        {
          "name": "stdout",
          "output_type": "stream",
          "text": [
            "Token\n",
            "['Technology', 'has', 'become', 'an', 'essential', 'part', 'of', 'modern', 'life', ',', 'transforming', 'the', 'way', 'people', 'work', ',', 'communicate', ',', 'and', 'learn', '.', 'From', 'smartphones', 'to', 'artificial', 'intelligence', ',', 'technological', 'innovations', 'have', 'improved', 'efficiency', 'and', 'convenience', 'in', 'almost', 'every', 'field', '.', 'In', 'education', ',', 'online', 'learning', 'platforms', 'allow', 'students', 'to', 'access', 'knowledge', 'from', 'anywhere', ',', 'while', 'in', 'healthcare', ',', 'advanced', 'medical', 'equipment', 'and', 'data', 'analysis', 'save', 'countless', 'lives', '.', 'However', ',', 'the', 'rapid', 'growth', 'of', 'technology', 'also', 'raises', 'concerns', 'about', 'privacy', ',', 'unemployment', ',', 'and', 'over-dependence', 'on', 'machines', '.', 'Therefore', ',', 'while', 'technology', 'offers', 'immense', 'benefits', ',', 'it', 'is', 'important', 'to', 'use', 'it', 'responsibly', 'to', 'ensure', 'that', 'progress', 'leads', 'to', 'a', 'better', 'and', 'more', 'balanced', 'society', '.']\n"
          ]
        }
      ],
      "source": [
        "tokens = word_tokenize(paragraph)\n",
        "print(\"Token\")\n",
        "print(tokens)"
      ]
    },
    {
      "cell_type": "markdown",
      "metadata": {
        "id": "Cr7QbGxGHOTG"
      },
      "source": [
        "Stopword Removal : This removes common english words like \"is\",\"the\",\"and\",etc. Keeping only meaningful words."
      ]
    },
    {
      "cell_type": "code",
      "execution_count": null,
      "metadata": {
        "colab": {
          "base_uri": "https://localhost:8080/"
        },
        "id": "edPZ-purGxJO",
        "outputId": "f1ba3fe7-b036-470f-e682-0705a38183fd"
      },
      "outputs": [
        {
          "name": "stdout",
          "output_type": "stream",
          "text": [
            "after stopword removal\n",
            "['Technology', 'become', 'essential', 'part', 'modern', 'life', 'transforming', 'way', 'people', 'work', 'communicate', 'learn', 'smartphones', 'artificial', 'intelligence', 'technological', 'innovations', 'improved', 'efficiency', 'convenience', 'almost', 'every', 'field', 'education', 'online', 'learning', 'platforms', 'allow', 'students', 'access', 'knowledge', 'anywhere', 'healthcare', 'advanced', 'medical', 'equipment', 'data', 'analysis', 'save', 'countless', 'lives', 'However', 'rapid', 'growth', 'technology', 'also', 'raises', 'concerns', 'privacy', 'unemployment', 'machines', 'Therefore', 'technology', 'offers', 'immense', 'benefits', 'important', 'use', 'responsibly', 'ensure', 'progress', 'leads', 'better', 'balanced', 'society']\n"
          ]
        }
      ],
      "source": [
        "stop_words = set(stopwords.words('english'))\n",
        "filtered_tokens = [word for word in tokens if word.lower() not in stop_words and word.isalpha()]\n",
        "print(\"after stopword removal\")\n",
        "print(filtered_tokens)"
      ]
    },
    {
      "cell_type": "markdown",
      "metadata": {
        "id": "lNzdQTZJIbe0"
      },
      "source": [
        "Stemming : Reduce a word to its root forms often not actual words"
      ]
    },
    {
      "cell_type": "code",
      "execution_count": null,
      "metadata": {
        "colab": {
          "base_uri": "https://localhost:8080/"
        },
        "id": "ZNj-JbPSIU1t",
        "outputId": "bfaf0858-9eed-4562-9be5-2c395afc78e1"
      },
      "outputs": [
        {
          "name": "stdout",
          "output_type": "stream",
          "text": [
            "after stemming\n",
            "['technolog', 'becom', 'essenti', 'part', 'modern', 'life', 'transform', 'way', 'peopl', 'work', 'commun', 'learn', 'smartphon', 'artifici', 'intellig', 'technolog', 'innov', 'improv', 'effici', 'conveni', 'almost', 'everi', 'field', 'educ', 'onlin', 'learn', 'platform', 'allow', 'student', 'access', 'knowledg', 'anywher', 'healthcar', 'advanc', 'medic', 'equip', 'data', 'analysi', 'save', 'countless', 'live', 'howev', 'rapid', 'growth', 'technolog', 'also', 'rais', 'concern', 'privaci', 'unemploy', 'machin', 'therefor', 'technolog', 'offer', 'immens', 'benefit', 'import', 'use', 'respons', 'ensur', 'progress', 'lead', 'better', 'balanc', 'societi']\n"
          ]
        }
      ],
      "source": [
        "stemmer = PorterStemmer()\n",
        "stemmed_words = [stemmer.stem(word) for word in filtered_tokens]\n",
        "print(\"after stemming\")\n",
        "print(stemmed_words)"
      ]
    },
    {
      "cell_type": "markdown",
      "metadata": {
        "id": "ucIYW2vxKjKB"
      },
      "source": [
        "Lemmatization : lemmatization returns dictionary base forms."
      ]
    },
    {
      "cell_type": "code",
      "execution_count": null,
      "metadata": {
        "colab": {
          "base_uri": "https://localhost:8080/"
        },
        "id": "c75jJDKZJkVN",
        "outputId": "8cf1186f-7be1-447e-886b-377e5535b47a"
      },
      "outputs": [
        {
          "name": "stdout",
          "output_type": "stream",
          "text": [
            "After lemmatization\n",
            "['Technology', 'become', 'essential', 'part', 'modern', 'life', 'transforming', 'way', 'people', 'work', 'communicate', 'learn', 'smartphones', 'artificial', 'intelligence', 'technological', 'innovation', 'improved', 'efficiency', 'convenience', 'almost', 'every', 'field', 'education', 'online', 'learning', 'platform', 'allow', 'student', 'access', 'knowledge', 'anywhere', 'healthcare', 'advanced', 'medical', 'equipment', 'data', 'analysis', 'save', 'countless', 'life', 'However', 'rapid', 'growth', 'technology', 'also', 'raise', 'concern', 'privacy', 'unemployment', 'machine', 'Therefore', 'technology', 'offer', 'immense', 'benefit', 'important', 'use', 'responsibly', 'ensure', 'progress', 'lead', 'better', 'balanced', 'society']\n"
          ]
        }
      ],
      "source": [
        "lemmatizer = WordNetLemmatizer()\n",
        "lemmatized_words = [lemmatizer.lemmatize(word) for word in filtered_tokens]\n",
        "print(\"After lemmatization\")\n",
        "print(lemmatized_words)"
      ]
    }
  ],
  "metadata": {
    "colab": {
      "provenance": []
    },
    "kernelspec": {
      "display_name": "Python 3",
      "name": "python3"
    },
    "language_info": {
      "name": "python"
    }
  },
  "nbformat": 4,
  "nbformat_minor": 0
}
